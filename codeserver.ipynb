{
  "cells": [
    {
      "cell_type": "markdown",
      "metadata": {
        "colab_type": "text",
        "id": "view-in-github"
      },
      "source": [
        "<a href=\"https://colab.research.google.com/github/ShivamKR12/ShivamKR12/blob/main/codeserver.ipynb\" target=\"_parent\"><img src=\"https://colab.research.google.com/assets/colab-badge.svg\" alt=\"Open In Colab\"/></a>"
      ]
    },
    {
      "cell_type": "markdown",
      "metadata": {},
      "source": [
        "**Setting Up Jupyter Lab on Google Colab**\n",
        "\n",
        "To set up Jupyter Lab with necessary extensions and expose it using ngrok, follow the steps below. This guide also includes the installation of packages required to interact with Google Drive."
      ]
    },
    {
      "cell_type": "code",
      "execution_count": null,
      "metadata": {
        "colab": {
          "base_uri": "https://localhost:8080/"
        },
        "collapsed": true,
        "id": "cd0FpD9QZO5L",
        "outputId": "511e948d-625d-46f9-e3c1-6eb801ba31c3"
      },
      "outputs": [],
      "source": [
        "# Install Jupyter Lab and other required packages\n",
        "!pip install jupyterlab jupyterlab-code-formatter jupyterlab-lsp python-lsp-server[all]\n",
        "\n",
        "# Install ngrok to expose the Jupyter Lab server\n",
        "!pip install pyngrok\n",
        "\n",
        "# Install Jupyter Lab extensions\n",
        "!jupyter labextension install @krassowski/jupyterlab-lsp\n",
        "!jupyter labextension install @ryantam626/jupyterlab_code_formatter\n",
        "\n",
        "# Enable Jupyter Lab extensions\n",
        "!jupyter serverextension enable --py jupyterlab_code_formatter\n",
        "\n",
        "# Generate Jupyter Lab configuration\n",
        "!jupyter lab --generate-config\n",
        "\n",
        "# Install and import necessary packages for Google Drive\n",
        "!pip install gdown\n",
        "!pip install google-auth google-auth-oauthlib google-auth-httplib2\n",
        "!pip install google-api-python-client\n",
        "\n",
        "from google.colab import drive\n",
        "drive.mount('/content/drive')\n",
        "\n",
        "# Configure Jupyter Lab to use the code formatter and language server\n",
        "config_path = \"/root/.jupyter/jupyter_lab_config.py\"\n",
        "with open(config_path, \"a\") as config_file:\n",
        "    config_file.write(\"\"\"\n",
        "# Add the following lines to your jupyter_lab_config.py\n",
        "\n",
        "c.ServerApp.port = 8888\n",
        "c.ServerApp.open_browser = False\n",
        "c.ServerApp.ip = '0.0.0.0'\n",
        "c.ServerApp.allow_remote_access = True\n",
        "c.ServerApp.token = ''  # No token authentication\n",
        "c.ServerApp.password = ''  # No password authentication\n",
        "c.LspInstallSettings.install_optional_dependencies = True\n",
        "\n",
        "# Configure code formatter\n",
        "c.CodeFormatter.formatters = {\n",
        "    'python': ['black'],\n",
        "}\n",
        "\"\"\")\n",
        "\n",
        "# Start ngrok\n",
        "from pyngrok import ngrok\n",
        "\n",
        "# Authenticate ngrok with your authtoken\n",
        "ngrok.set_auth_token(\"YOUR_NGROK_AUTH_TOKEN\")\n",
        "\n",
        "# Kill any previous ngrok sessions if running\n",
        "ngrok.kill()\n",
        "\n",
        "# Set up a tunnel for the Jupyter Lab server\n",
        "public_url = ngrok.connect(8888)\n",
        "print(f\"Jupyter Lab public URL: {public_url}\")\n",
        "\n",
        "# Start Jupyter Lab server\n",
        "!jupyter lab --ip=0.0.0.0 --port=8888 --no-browser --allow-root --notebook-dir='/content/drive/My Drive'\n"
      ]
    },
    {
      "cell_type": "markdown",
      "metadata": {},
      "source": [
        "**Setting Up Jupyter Lab on Google Colab**\n",
        "\n",
        "To set up Jupyter Lab with necessary extensions and expose it using ngrok, follow the steps below."
      ]
    },
    {
      "cell_type": "code",
      "execution_count": null,
      "metadata": {
        "colab": {
          "base_uri": "https://localhost:8080/"
        },
        "collapsed": true,
        "id": "cvTofmnHgW_I",
        "outputId": "d2c213de-107e-4b6f-a808-dc0989f52744"
      },
      "outputs": [],
      "source": [
        "# Install Jupyter Lab and other required packages\n",
        "!pip install jupyterlab jupyterlab-code-formatter jupyterlab-lsp python-lsp-server[all]\n",
        "\n",
        "# Install ngrok to expose the Jupyter Lab server\n",
        "!pip install pyngrok\n",
        "\n",
        "# Install Jupyter Lab extensions\n",
        "!jupyter labextension install @krassowski/jupyterlab-lsp\n",
        "!jupyter labextension install @ryantam626/jupyterlab_code_formatter\n",
        "\n",
        "# Enable Jupyter Lab extensions\n",
        "!jupyter serverextension enable --py jupyterlab_code_formatter\n",
        "\n",
        "# Generate Jupyter Lab configuration\n",
        "!jupyter lab --generate-config\n",
        "\n",
        "# Configure Jupyter Lab to use the code formatter and language server\n",
        "config_path = \"/root/.jupyter/jupyter_lab_config.py\"\n",
        "with open(config_path, \"a\") as config_file:\n",
        "    config_file.write(\"\"\"\n",
        "# Add the following lines to your jupyter_lab_config.py\n",
        "\n",
        "c.ServerApp.port = 8888\n",
        "c.ServerApp.open_browser = False\n",
        "c.ServerApp.ip = '0.0.0.0'\n",
        "c.ServerApp.allow_remote_access = True\n",
        "c.ServerApp.token = ''  # No token authentication\n",
        "c.ServerApp.password = ''  # No password authentication\n",
        "c.LspInstallSettings.install_optional_dependencies = True\n",
        "\n",
        "# Configure code formatter\n",
        "c.CodeFormatter.formatters = {\n",
        "    'python': ['black'],\n",
        "}\n",
        "\"\"\")\n",
        "\n",
        "# Start ngrok\n",
        "from pyngrok import ngrok\n",
        "\n",
        "# Authenticate ngrok with your authtoken\n",
        "ngrok.set_auth_token(\"YOUR-NGROK-AUTH-TOKEN\")\n",
        "\n",
        "# Kill any previous ngrok sessions if running\n",
        "ngrok.kill()\n",
        "\n",
        "# Set up a tunnel for the Jupyter Lab server\n",
        "public_url = ngrok.connect(8888)\n",
        "print(f\"Jupyter Lab public URL: {public_url}\")\n",
        "\n",
        "# Start Jupyter Lab server\n",
        "!jupyter lab --ip=0.0.0.0 --port=8888 --no-browser --allow-root\n"
      ]
    },
    {
      "cell_type": "markdown",
      "metadata": {},
      "source": [
        "**Setting Up Jupyter Lab with GPU Support on Google Colab**\n",
        "\n",
        "To set up Jupyter Lab with necessary extensions, GPU support, and expose it using ngrok, follow the steps below."
      ]
    },
    {
      "cell_type": "code",
      "execution_count": null,
      "metadata": {
        "id": "FNm_VQSro9OG"
      },
      "outputs": [],
      "source": [
        "# Install Jupyter Lab and other required packages\n",
        "!pip install jupyterlab jupyterlab-code-formatter jupyterlab-lsp python-lsp-server[all]\n",
        "\n",
        "# Install ngrok to expose the Jupyter Lab server\n",
        "!pip install pyngrok\n",
        "\n",
        "# Install Jupyter Lab extensions\n",
        "!jupyter labextension install @krassowski/jupyterlab-lsp\n",
        "!jupyter labextension install @ryantam626/jupyterlab_code_formatter\n",
        "\n",
        "# Enable Jupyter Lab extensions\n",
        "!jupyter serverextension enable --py jupyterlab_code_formatter\n",
        "\n",
        "# Install GPU packages (TensorFlow, PyTorch)\n",
        "!pip install tensorflow-gpu\n",
        "!pip install torch torchvision torchaudio\n",
        "\n",
        "# Generate Jupyter Lab configuration\n",
        "!jupyter lab --generate-config\n",
        "\n",
        "# Configure Jupyter Lab to use the code formatter, language server, and GPU\n",
        "config_path = \"/root/.jupyter/jupyter_lab_config.py\"\n",
        "with open(config_path, \"a\") as config_file:\n",
        "    config_file.write(\"\"\"\n",
        "# Add the following lines to your jupyter_lab_config.py\n",
        "\n",
        "c.ServerApp.port = 8888\n",
        "c.ServerApp.open_browser = False\n",
        "c.ServerApp.ip = '0.0.0.0'\n",
        "c.ServerApp.allow_remote_access = True\n",
        "c.ServerApp.token = ''  # No token authentication\n",
        "c.ServerApp.password = ''  # No password authentication\n",
        "c.LspInstallSettings.install_optional_dependencies = True\n",
        "\n",
        "# Configure code formatter\n",
        "c.CodeFormatter.formatters = {\n",
        "    'python': ['black'],\n",
        "}\n",
        "\n",
        "# Enable GPU support\n",
        "c.NotebookApp.kernel_spec_manager_class = 'nb_conda_kernels.CondaKernelSpecManager'\n",
        "\n",
        "# Save notebook state\n",
        "c.NotebookApp.shutdown_no_activity_timeout = 3600\n",
        "c.NotebookApp.terminals_enabled = True\n",
        "\"\"\")\n",
        "\n",
        "# Start ngrok\n",
        "from pyngrok import ngrok\n",
        "\n",
        "# Authenticate ngrok with your authtoken\n",
        "ngrok.set_auth_token(\"YOUR_NGROK_AUTH_TOKEN\")\n",
        "\n",
        "# Kill any previous ngrok sessions if running\n",
        "ngrok.kill()\n",
        "\n",
        "# Set up a tunnel for the Jupyter Lab server\n",
        "public_url = ngrok.connect(8888)\n",
        "print(f\"Jupyter Lab public URL: {public_url}\")\n",
        "\n",
        "# Start Jupyter Lab server\n",
        "!jupyter lab --ip=0.0.0.0 --port=8888 --no-browser --allow-root\n"
      ]
    }
  ],
  "metadata": {
    "colab": {
      "authorship_tag": "ABX9TyMLAYVL9sla9x4IEvCuI85s",
      "include_colab_link": true,
      "provenance": []
    },
    "kernelspec": {
      "display_name": "Python 3",
      "name": "python3"
    },
    "language_info": {
      "name": "python"
    }
  },
  "nbformat": 4,
  "nbformat_minor": 0
}
